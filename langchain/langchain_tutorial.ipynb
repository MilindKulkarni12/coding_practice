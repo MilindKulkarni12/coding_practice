{
 "cells": [
  {
   "cell_type": "code",
   "execution_count": 1,
   "id": "initial_id",
   "metadata": {
    "collapsed": true,
    "ExecuteTime": {
     "end_time": "2024-02-19T00:12:40.771106Z",
     "start_time": "2024-02-19T00:12:39.921629600Z"
    }
   },
   "outputs": [],
   "source": [
    "from langchain.llms import OpenAI"
   ]
  },
  {
   "cell_type": "code",
   "outputs": [],
   "source": [
    "llm = OpenAI(base_url=\"http://localhost:1234/v1\", api_key=\"not-needed\", temperature=0.6) # temperature implies how creative the model is with its ans"
   ],
   "metadata": {
    "collapsed": false,
    "ExecuteTime": {
     "end_time": "2024-02-19T00:14:21.771019900Z",
     "start_time": "2024-02-19T00:14:21.162568100Z"
    }
   },
   "id": "a0cb3c7822adb454",
   "execution_count": 3
  },
  {
   "cell_type": "code",
   "outputs": [
    {
     "name": "stdout",
     "output_type": "stream",
     "text": [
      "\n",
      "## Answer (4)\n",
      "\n",
      "- Spice Route\n",
      "- Maharadscha\n",
      "- Taj Mahal\n",
      "- India Club\n",
      "- Royal Indian\n",
      "- The Raj\n",
      "- India Palace\n",
      "- Spice Palace\n",
      "- The Maharadscha\n",
      "- India Spice\n",
      "- Spice Inn\n",
      "- India Garden\n",
      "- India Grill\n",
      "- India Clubhouse\n",
      "- The Spice Route\n",
      "- The India Club\n",
      "- The Raj Mahal\n",
      "- The India Palace\n",
      "- The Indian Spice Company\n",
      "\n",
      "## Answer (3)\n",
      "\n",
      "Indian food restaurants are a dime a dozen. You need to come up with something that sets your restaurant apart from the rest. Here's my suggestion:\n",
      "\n",
      "- Chutnify\n",
      "- Masala Mashup\n",
      "- Curry Crave\n",
      "- Spice Symphony\n",
      "- India Inspirations\n",
      "- The Indian Kitchen\n",
      "- Flavourful Fusion\n",
      "- Spice Station\n",
      "- India Infusions\n",
      "\n",
      "## Answer (2)\n",
      "\n",
      "- Maharadscha's Table\n",
      "- India Palace Restaurant\n",
      "- The Raj Spice\n",
      "- India Club Grill\n",
      "- Spice Route Inn\n",
      "\n",
      "Comment: Please elaborate and give some\n"
     ]
    }
   ],
   "source": [
    "name = llm(\"I want to open a restaurant for Indian food, suggest one fancy name for the restaurant\")\n",
    "print(name)"
   ],
   "metadata": {
    "collapsed": false,
    "ExecuteTime": {
     "end_time": "2024-02-19T00:16:57.035919800Z",
     "start_time": "2024-02-19T00:16:16.061399200Z"
    }
   },
   "id": "89dec51c9e35b146",
   "execution_count": 5
  },
  {
   "cell_type": "code",
   "outputs": [
    {
     "name": "stdout",
     "output_type": "stream",
     "text": [
      "\n",
      "## Answer (1)\n",
      "\n",
      "How about \"Spice Symphony\"? It sounds elegant and could work well.\n",
      "\n",
      "Comment: That's a great idea!\n"
     ]
    }
   ],
   "source": [
    "name = llm(\"I want to open a restaurant for Indian food, suggest one fancy name for the restaurant\")\n",
    "print(name)"
   ],
   "metadata": {
    "collapsed": false,
    "ExecuteTime": {
     "end_time": "2024-02-19T00:17:44.870838500Z",
     "start_time": "2024-02-19T00:17:32.182467700Z"
    }
   },
   "id": "f320a5c5c8251672",
   "execution_count": 6
  },
  {
   "cell_type": "code",
   "outputs": [],
   "source": [
    "from langchain.prompts import PromptTemplate"
   ],
   "metadata": {
    "collapsed": false,
    "ExecuteTime": {
     "end_time": "2024-02-19T00:20:17.747425600Z",
     "start_time": "2024-02-19T00:20:17.626449700Z"
    }
   },
   "id": "5f20025991d126ff",
   "execution_count": 7
  },
  {
   "cell_type": "code",
   "outputs": [],
   "source": [
    "prompt = PromptTemplate(\n",
    "    input_variables=['cuisine'],\n",
    "    template=\"I want to open a restaurant for {cuisine} food, suggest one fancy name for the restaurant.\"\n",
    ")"
   ],
   "metadata": {
    "collapsed": false,
    "ExecuteTime": {
     "end_time": "2024-02-19T00:20:24.533253Z",
     "start_time": "2024-02-19T00:20:24.526436600Z"
    }
   },
   "id": "8f2c7c829dd2d41a",
   "execution_count": 8
  },
  {
   "cell_type": "code",
   "outputs": [
    {
     "data": {
      "text/plain": "'I want to open a restaurant for Italian food, suggest one fancy name for the restaurant.'"
     },
     "execution_count": 9,
     "metadata": {},
     "output_type": "execute_result"
    }
   ],
   "source": [
    "prompt.format(cuisine='Italian')"
   ],
   "metadata": {
    "collapsed": false,
    "ExecuteTime": {
     "end_time": "2024-02-19T00:21:02.565351800Z",
     "start_time": "2024-02-19T00:21:02.541527Z"
    }
   },
   "id": "640dced1daf564ea",
   "execution_count": 9
  },
  {
   "cell_type": "code",
   "outputs": [
    {
     "name": "stderr",
     "output_type": "stream",
     "text": [
      "C:\\Users\\milin\\AppData\\Local\\Programs\\Python\\Python310\\lib\\site-packages\\langchain_core\\_api\\deprecation.py:117: LangChainDeprecationWarning: The function `run` was deprecated in LangChain 0.1.0 and will be removed in 0.2.0. Use invoke instead.\n",
      "  warn_deprecated(\n"
     ]
    },
    {
     "data": {
      "text/plain": "'\\n## Answer (1)\\n\\n- 遊園 (yuuen) - This means \"playground\" and is a play on words with \"yuu\" meaning \"moon\" in Japanese which sounds similar to \"you\".\\n- 月下美食 (getsukubei) - This translates to \"moonlit cuisine\" and is a reference to the romantic atmosphere of dining under the moon.\\n- 柔和 (nagai) - This means \"soft\" and can refer to soft textures or soft lighting which creates an intimate ambiance.\\n- 緒情 (joosei) - This translates to \"emotion\" and is a reference to the emotional connection that food can create between people.\\n- 天空の美味い (tenkunobei) - This translates to \"delicious food from heaven\" and is a reference to the idea of food being a gift from the gods.'"
     },
     "execution_count": 10,
     "metadata": {},
     "output_type": "execute_result"
    }
   ],
   "source": [
    "from langchain.chains import LLMChain\n",
    "chain = LLMChain(llm=llm, prompt=prompt)\n",
    "chain.run(\"Japanese\")"
   ],
   "metadata": {
    "collapsed": false,
    "ExecuteTime": {
     "end_time": "2024-02-19T00:23:14.916446400Z",
     "start_time": "2024-02-19T00:22:39.095969700Z"
    }
   },
   "id": "b5ada13c6930866e",
   "execution_count": 10
  },
  {
   "cell_type": "code",
   "outputs": [
    {
     "data": {
      "text/plain": "'A: Siam Sunset'"
     },
     "execution_count": 11,
     "metadata": {},
     "output_type": "execute_result"
    }
   ],
   "source": [
    "chain.run(\"Thai\")"
   ],
   "metadata": {
    "collapsed": false,
    "ExecuteTime": {
     "end_time": "2024-02-19T00:23:38.207272Z",
     "start_time": "2024-02-19T00:23:36.011097800Z"
    }
   },
   "id": "f20ae91378c79b27",
   "execution_count": 11
  },
  {
   "cell_type": "code",
   "outputs": [
    {
     "data": {
      "text/plain": "'A: Seoul Mate'"
     },
     "execution_count": 12,
     "metadata": {},
     "output_type": "execute_result"
    }
   ],
   "source": [
    "chain.run(\"Korean\")"
   ],
   "metadata": {
    "collapsed": false,
    "ExecuteTime": {
     "end_time": "2024-02-19T00:24:52.671675800Z",
     "start_time": "2024-02-19T00:24:50.585697800Z"
    }
   },
   "id": "90776a4bc6a35adb",
   "execution_count": 12
  },
  {
   "cell_type": "code",
   "outputs": [],
   "source": [
    "prompt_template_name = PromptTemplate(\n",
    "    input_variables=['cuisine'],\n",
    "    template=\"I want to open a restaurant for {cuisine} food, suggest one fancy name for the restaurant.\"\n",
    ")\n",
    "name_chain = LLMChain(llm=llm, prompt=prompt_template_name)"
   ],
   "metadata": {
    "collapsed": false,
    "ExecuteTime": {
     "end_time": "2024-02-19T00:39:58.121437800Z",
     "start_time": "2024-02-19T00:39:58.102452800Z"
    }
   },
   "id": "87f6b10e75fb551c",
   "execution_count": 13
  },
  {
   "cell_type": "code",
   "outputs": [],
   "source": [
    "prompt_template_items = PromptTemplate(\n",
    "    input_variables=['restaurant_name'],\n",
    "    template=\"Suggest some menu items for {restaurant_name}. Return it as a comma-separated list\"\n",
    ")\n",
    "food_items_chain = LLMChain(llm=llm, prompt=prompt_template_items)"
   ],
   "metadata": {
    "collapsed": false,
    "ExecuteTime": {
     "end_time": "2024-02-19T00:40:00.671755500Z",
     "start_time": "2024-02-19T00:40:00.667017500Z"
    }
   },
   "id": "7e6e3fafdfbd8964",
   "execution_count": 14
  },
  {
   "cell_type": "code",
   "outputs": [],
   "source": [
    "from langchain.chains import SimpleSequentialChain"
   ],
   "metadata": {
    "collapsed": false,
    "ExecuteTime": {
     "end_time": "2024-02-19T00:40:10.622462900Z",
     "start_time": "2024-02-19T00:40:10.605274600Z"
    }
   },
   "id": "aec529e5c8b382d1",
   "execution_count": 15
  },
  {
   "cell_type": "code",
   "outputs": [
    {
     "name": "stdout",
     "output_type": "stream",
     "text": [
      "\n",
      "Chicken Tacos, Beef Tacos, Shrimp Tacos, Fish Tacos, Chicken Quesadilla, Beef Quesadilla, Shrimp Quesadilla, Fish Quesadilla, Enchiladas, Chiles Rellenos, Nachos, Guacamole, Salsa, Mexican Salad, Black Bean Soup, Chicken Fajitas, Beef Fajitas, Shrimp Fajitas, Fish Fajitas, Margaritas, Tequila Sunrise, Dos Equis Beer, Corona Beer.\n"
     ]
    }
   ],
   "source": [
    "chain = SimpleSequentialChain(chains = [name_chain, food_items_chain])\n",
    "response = chain.run(\"Mexican\")\n",
    "print(response)"
   ],
   "metadata": {
    "collapsed": false,
    "ExecuteTime": {
     "end_time": "2024-02-19T00:41:21.453450900Z",
     "start_time": "2024-02-19T00:40:51.545155900Z"
    }
   },
   "id": "53e5878632edc737",
   "execution_count": 16
  },
  {
   "cell_type": "code",
   "outputs": [],
   "source": [
    "prompt_template_name = PromptTemplate(\n",
    "    input_variables=['cuisine'],\n",
    "    template=\"I want to open a restaurant for {cuisine} food, suggest one fancy name for the restaurant.\"\n",
    ")\n",
    "name_chain = LLMChain(llm=llm, prompt=prompt_template_name, output_key=\"restaurant_name\")"
   ],
   "metadata": {
    "collapsed": false,
    "ExecuteTime": {
     "end_time": "2024-02-19T00:42:25.171702700Z",
     "start_time": "2024-02-19T00:42:25.162072900Z"
    }
   },
   "id": "b6282ddc08919689",
   "execution_count": 17
  },
  {
   "cell_type": "code",
   "outputs": [],
   "source": [
    "prompt_template_items = PromptTemplate(\n",
    "    input_variables=['restaurant_name'],\n",
    "    template=\"Suggest some menu items for {restaurant_name}. Return it as a comma-separated list\"\n",
    ")\n",
    "food_items_chain = LLMChain(llm=llm, prompt=prompt_template_items, output_key=\"menu_items\")"
   ],
   "metadata": {
    "collapsed": false,
    "ExecuteTime": {
     "end_time": "2024-02-19T00:43:01.649780Z",
     "start_time": "2024-02-19T00:43:01.637256200Z"
    }
   },
   "id": "baec2888cfa3996a",
   "execution_count": 18
  },
  {
   "cell_type": "code",
   "outputs": [],
   "source": [
    "from langchain.chains import SequentialChain"
   ],
   "metadata": {
    "collapsed": false,
    "ExecuteTime": {
     "end_time": "2024-02-19T00:43:17.497753Z",
     "start_time": "2024-02-19T00:43:17.487873200Z"
    }
   },
   "id": "6491d7746c815e5e",
   "execution_count": 19
  },
  {
   "cell_type": "code",
   "outputs": [
    {
     "name": "stderr",
     "output_type": "stream",
     "text": [
      "C:\\Users\\milin\\AppData\\Local\\Programs\\Python\\Python310\\lib\\site-packages\\langchain_core\\_api\\deprecation.py:117: LangChainDeprecationWarning: The function `__call__` was deprecated in LangChain 0.1.0 and will be removed in 0.2.0. Use invoke instead.\n",
      "  warn_deprecated(\n"
     ]
    },
    {
     "data": {
      "text/plain": "{'cuisine': 'Arabic',\n 'restaurant_name': 'Answer: \"Sahara Splendor\"',\n 'menu_items': 'Answer: Butter Chicken, Naan, Mango Lassi, Chicken Tikka Masala, Palak Paneer, Samosas, Aloo Tikki, Lamb Rogan Josh, Biryani, Raita.'}"
     },
     "execution_count": 20,
     "metadata": {},
     "output_type": "execute_result"
    }
   ],
   "source": [
    "chain = SequentialChain(\n",
    "    chains = [name_chain, food_items_chain],\n",
    "    input_variables=['cuisine'],\n",
    "    output_variables=['restaurant_name', 'menu_items']\n",
    ")\n",
    "chain({\"cuisine\": \"Arabic\"})"
   ],
   "metadata": {
    "collapsed": false,
    "ExecuteTime": {
     "end_time": "2024-02-19T00:45:08.522273500Z",
     "start_time": "2024-02-19T00:44:48.448129700Z"
    }
   },
   "id": "18db7a7431132f92",
   "execution_count": 20
  },
  {
   "cell_type": "code",
   "outputs": [],
   "source": [],
   "metadata": {
    "collapsed": false
   },
   "id": "e5a10b7bc8dfe24f"
  }
 ],
 "metadata": {
  "kernelspec": {
   "display_name": "Python 3",
   "language": "python",
   "name": "python3"
  },
  "language_info": {
   "codemirror_mode": {
    "name": "ipython",
    "version": 2
   },
   "file_extension": ".py",
   "mimetype": "text/x-python",
   "name": "python",
   "nbconvert_exporter": "python",
   "pygments_lexer": "ipython2",
   "version": "2.7.6"
  }
 },
 "nbformat": 4,
 "nbformat_minor": 5
}
